{
 "cells": [
  {
   "cell_type": "code",
   "execution_count": 1,
   "id": "24709890-5d59-412c-ae83-2852d0b46b66",
   "metadata": {
    "tags": []
   },
   "outputs": [],
   "source": [
    "import danbi as bi\n",
    "bi.setWarningOff()"
   ]
  },
  {
   "cell_type": "code",
   "execution_count": 2,
   "id": "659a3cef-bbef-47ea-b35f-02e797b84816",
   "metadata": {
    "tags": []
   },
   "outputs": [],
   "source": [
    "import tensorflow as tf\n",
    "tf.config.set_visible_devices([], 'GPU')"
   ]
  },
  {
   "cell_type": "markdown",
   "id": "6b227e26-1a86-45f5-8811-f7650aa7be0e",
   "metadata": {},
   "source": [
    "# Tensors\n",
    "* Tensorflow operates on multidimensional arrays or tensors represeted as tf.Tensor objects."
   ]
  },
  {
   "cell_type": "code",
   "execution_count": 11,
   "id": "770cfb9b-fc46-4ed2-bdb4-b1088a4da968",
   "metadata": {
    "tags": []
   },
   "outputs": [],
   "source": [
    "x = tf.constant([\n",
    "    [1., 2., 3.],\n",
    "    [4., 5., 6.],\n",
    "])"
   ]
  },
  {
   "cell_type": "code",
   "execution_count": 21,
   "id": "7d07c74a-f485-4854-afe7-edf010bca2fc",
   "metadata": {
    "tags": []
   },
   "outputs": [
    {
     "data": {
      "application/vnd.jupyter.widget-view+json": {
       "model_id": "408201b2e19d42d1ac65cb71e9ebd375",
       "version_major": 2,
       "version_minor": 0
      },
      "text/plain": [
       "GridspecLayout(children=(Output(layout=Layout(grid_area='widget001')), Output(layout=Layout(grid_area='widget0…"
      ]
     },
     "metadata": {},
     "output_type": "display_data"
    }
   ],
   "source": [
    "# Tensor.shape : tells you the size of the tensor along each of its axes.\n",
    "# Tensor.dtype : tells you the type of all the elements in the tensor.\n",
    "bi.showAsCols(x, x.shape, x.dtype, colSize=3)"
   ]
  },
  {
   "cell_type": "markdown",
   "id": "b1e55a1b-30ba-4243-a3d1-1f925b1a83ae",
   "metadata": {},
   "source": [
    "## Operations\n",
    "* Tensrflow implements standard mathematical operations on tensors, as well as many operations specialized for machine learning."
   ]
  },
  {
   "cell_type": "code",
   "execution_count": 41,
   "id": "b71c57da-8c0e-47cb-a7e0-89a2b46bed60",
   "metadata": {
    "tags": []
   },
   "outputs": [
    {
     "data": {
      "application/vnd.jupyter.widget-view+json": {
       "model_id": "f2dbbbc1f3394f059a41f64be20928f9",
       "version_major": 2,
       "version_minor": 0
      },
      "text/plain": [
       "GridspecLayout(children=(Output(layout=Layout(grid_area='widget001')), Output(layout=Layout(grid_area='widget0…"
      ]
     },
     "metadata": {},
     "output_type": "display_data"
    }
   ],
   "source": [
    "# basic 4 arithmetic operations\n",
    "bi.showAsCols(\n",
    "    x+x,\n",
    "    x-x,\n",
    "    x*x,\n",
    "    x/x,\n",
    "    colSize=4\n",
    ")"
   ]
  },
  {
   "cell_type": "code",
   "execution_count": 42,
   "id": "b1038819-5f3e-4e37-8d84-738b48380c72",
   "metadata": {
    "tags": []
   },
   "outputs": [
    {
     "data": {
      "application/vnd.jupyter.widget-view+json": {
       "model_id": "094b2f0a5f05413994aabe29b8fc2325",
       "version_major": 2,
       "version_minor": 0
      },
      "text/plain": [
       "GridspecLayout(children=(Output(layout=Layout(grid_area='widget001')), Output(layout=Layout(grid_area='widget0…"
      ]
     },
     "metadata": {},
     "output_type": "display_data"
    }
   ],
   "source": [
    "# matrix operation\n",
    "bi.showAsCols(\n",
    "    x,\n",
    "    tf.transpose(x),\n",
    "    x @ tf.transpose(x),\n",
    "    colSize=3\n",
    ")"
   ]
  },
  {
   "cell_type": "code",
   "execution_count": 39,
   "id": "97c11e9d-7b48-40af-ab38-3de37e8d1a9c",
   "metadata": {
    "tags": []
   },
   "outputs": [
    {
     "data": {
      "application/vnd.jupyter.widget-view+json": {
       "model_id": "12067eb5fa58474fbf50667c7b73618c",
       "version_major": 2,
       "version_minor": 0
      },
      "text/plain": [
       "GridspecLayout(children=(Output(layout=Layout(grid_area='widget001')), Output(layout=Layout(grid_area='widget0…"
      ]
     },
     "metadata": {},
     "output_type": "display_data"
    }
   ],
   "source": [
    "# concat\n",
    "bi.showAsCols(\n",
    "    tf.concat([x, x, x], axis=0),\n",
    "    tf.concat([x, x, x], axis=1),\n",
    "    colSize=2\n",
    ")"
   ]
  },
  {
   "cell_type": "code",
   "execution_count": 40,
   "id": "659418da-f9ba-4237-8e21-721d2c3b5c7a",
   "metadata": {
    "tags": []
   },
   "outputs": [
    {
     "data": {
      "application/vnd.jupyter.widget-view+json": {
       "model_id": "1b35ef12a97a456792bcdf4735a7887e",
       "version_major": 2,
       "version_minor": 0
      },
      "text/plain": [
       "GridspecLayout(children=(Output(layout=Layout(grid_area='widget001')), Output(layout=Layout(grid_area='widget0…"
      ]
     },
     "metadata": {},
     "output_type": "display_data"
    }
   ],
   "source": [
    "# activation fnction\n",
    "bi.showAsCols(\n",
    "    tf.nn.softmax(x, axis=0),\n",
    "    tf.nn.softmax(x, axis=1),\n",
    "    tf.nn.softmax(x, axis=-1),\n",
    "    colSize=3\n",
    ")"
   ]
  },
  {
   "cell_type": "code",
   "execution_count": 44,
   "id": "a43ff748-40a2-412f-a277-c50164a28660",
   "metadata": {
    "tags": []
   },
   "outputs": [
    {
     "data": {
      "application/vnd.jupyter.widget-view+json": {
       "model_id": "b6b50d5ba029410586d289c28b57c8fa",
       "version_major": 2,
       "version_minor": 0
      },
      "text/plain": [
       "GridspecLayout(children=(Output(layout=Layout(grid_area='widget001')), Output(layout=Layout(grid_area='widget0…"
      ]
     },
     "metadata": {},
     "output_type": "display_data"
    }
   ],
   "source": [
    "# elements sum\n",
    "bi.showAsCols(\n",
    "    tf.reduce_sum(x),\n",
    "    sum(range(1, 7)),\n",
    "    colSize=2\n",
    ")"
   ]
  },
  {
   "cell_type": "code",
   "execution_count": null,
   "id": "1c4ee2f7-2745-463b-a760-59ed440e3941",
   "metadata": {},
   "outputs": [],
   "source": []
  },
  {
   "cell_type": "code",
   "execution_count": null,
   "id": "16ce4763-bd8f-414d-8883-b6b673527add",
   "metadata": {},
   "outputs": [],
   "source": []
  },
  {
   "cell_type": "code",
   "execution_count": null,
   "id": "0e2415e7-b053-4b9b-b0fc-a97f102004f0",
   "metadata": {},
   "outputs": [],
   "source": []
  },
  {
   "cell_type": "code",
   "execution_count": null,
   "id": "448a748d-d891-49cb-af9f-f15a241380e8",
   "metadata": {},
   "outputs": [],
   "source": []
  },
  {
   "cell_type": "code",
   "execution_count": null,
   "id": "fc978311-a9f3-456c-9ed9-c2c9f2effa8b",
   "metadata": {},
   "outputs": [],
   "source": []
  },
  {
   "cell_type": "code",
   "execution_count": null,
   "id": "a9c7dd0f-eff2-49e2-b863-83203483ac84",
   "metadata": {},
   "outputs": [],
   "source": []
  },
  {
   "cell_type": "code",
   "execution_count": null,
   "id": "d33018fd-bbed-483a-afbf-e66b75612369",
   "metadata": {},
   "outputs": [],
   "source": []
  },
  {
   "cell_type": "code",
   "execution_count": null,
   "id": "00826d89-0ba6-4f90-8e83-6a4e8b9fea14",
   "metadata": {},
   "outputs": [],
   "source": []
  },
  {
   "cell_type": "code",
   "execution_count": null,
   "id": "dfe4e31a-9caa-4801-8294-d2943ec17761",
   "metadata": {},
   "outputs": [],
   "source": []
  },
  {
   "cell_type": "code",
   "execution_count": null,
   "id": "0a14c62e-a587-476b-aed9-34ba157fdf17",
   "metadata": {},
   "outputs": [],
   "source": []
  },
  {
   "cell_type": "code",
   "execution_count": null,
   "id": "6ebb49bf-e0eb-40b2-9391-2fad887fdc9a",
   "metadata": {},
   "outputs": [],
   "source": []
  },
  {
   "cell_type": "code",
   "execution_count": null,
   "id": "71fd0ef8-91a4-479f-8464-26a4cf52d2b8",
   "metadata": {},
   "outputs": [],
   "source": []
  },
  {
   "cell_type": "code",
   "execution_count": null,
   "id": "53bbd803-252d-4687-bfe1-902d4c63997a",
   "metadata": {},
   "outputs": [],
   "source": []
  }
 ],
 "metadata": {
  "kernelspec": {
   "display_name": "Python 3 (ipykernel)",
   "language": "python",
   "name": "python3"
  },
  "language_info": {
   "codemirror_mode": {
    "name": "ipython",
    "version": 3
   },
   "file_extension": ".py",
   "mimetype": "text/x-python",
   "name": "python",
   "nbconvert_exporter": "python",
   "pygments_lexer": "ipython3",
   "version": "3.10.13"
  }
 },
 "nbformat": 4,
 "nbformat_minor": 5
}
